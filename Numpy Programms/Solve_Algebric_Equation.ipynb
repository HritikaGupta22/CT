{
  "nbformat": 4,
  "nbformat_minor": 0,
  "metadata": {
    "colab": {
      "provenance": []
    },
    "kernelspec": {
      "name": "python3",
      "display_name": "Python 3"
    },
    "language_info": {
      "name": "python"
    }
  },
  "cells": [
    {
      "cell_type": "code",
      "execution_count": null,
      "metadata": {
        "id": "nOMXwxTPPvy2"
      },
      "outputs": [],
      "source": [
        "#Solve System of Linear Equations\n",
        "# Solve for x, y & z where:\n",
        "#Eq1 : x + y + z = 2 | Eq2 : 6x - 4y + 5z = 31 | Eq3: 5x + 2y + 2z = 13"
      ]
    },
    {
      "cell_type": "code",
      "source": [
        "#importing module named numpy with alias name as np\n",
        "import numpy as np\n",
        "# Coefficients of the equations\n",
        "coefficients = np.array([[1, 1, 1],                            #values of xyz from Eq1\n",
        "                         [6, -4, 5],                           #values of xyz from Eq2\n",
        "                         [5, 2, 2]])                           #values of xyz from Eq3\n",
        "\n",
        "# Right-hand side of the equations\n",
        "rhs = np.array([2, 31, 13])\n",
        "\n",
        "# Solve the system of equations\n",
        "solution = np.linalg.solve(coefficients, rhs)\n",
        "# Extract the values of x, y, and z from the solution\n",
        "x = solution[0]\n",
        "y = solution[1]\n",
        "z = solution[2]\n",
        "\n",
        "# Print the solution\n",
        "print(\"Solution:\")\n",
        "print(f\"x = {x}\")\n",
        "print(f\"y = {y}\")\n",
        "print(f\"z = {z}\")"
      ],
      "metadata": {
        "colab": {
          "base_uri": "https://localhost:8080/"
        },
        "id": "CTnf9mQuP4bt",
        "outputId": "11718f5b-1d53-40bc-a7a3-bccb2230e5d0"
      },
      "execution_count": 2,
      "outputs": [
        {
          "output_type": "stream",
          "name": "stdout",
          "text": [
            "Solution:\n",
            "x = 3.0\n",
            "y = -2.0\n",
            "z = 1.0000000000000002\n"
          ]
        }
      ]
    },
    {
      "cell_type": "code",
      "source": [],
      "metadata": {
        "id": "Vzc71vL0QT8K"
      },
      "execution_count": null,
      "outputs": []
    }
  ]
}