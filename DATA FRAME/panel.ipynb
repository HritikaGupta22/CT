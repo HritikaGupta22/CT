{
  "nbformat": 4,
  "nbformat_minor": 0,
  "metadata": {
    "colab": {
      "provenance": []
    },
    "kernelspec": {
      "name": "python3",
      "display_name": "Python 3"
    },
    "language_info": {
      "name": "python"
    }
  },
  "cells": [
    {
      "cell_type": "code",
      "source": [
        "#From the following Cross-Sectional Dataframe 'df_cross_section' having column head as \"company\" , \"2023\" , \"2024\"\n",
        "#Create the following Panel Dataframe 'df_panel' in the format such that it has column head as \" Company\" , \"Year\" , \"Profit\""
      ],
      "metadata": {
        "id": "xEX1OLLy2C_T"
      },
      "execution_count": null,
      "outputs": []
    },
    {
      "cell_type": "code",
      "execution_count": null,
      "metadata": {
        "colab": {
          "base_uri": "https://localhost:8080/"
        },
        "id": "aIWsRaQsdFqf",
        "outputId": "98ace8c7-fc35-4391-dc5b-762a8d933fca"
      },
      "outputs": [
        {
          "output_type": "stream",
          "name": "stdout",
          "text": [
            "Panel DataFrame:\n",
            "  Company  Year  Profit\n",
            "0     ZYX  2023     123\n",
            "1     WVU  2023     456\n",
            "2     TSR  2023     789\n",
            "3     ZYX  2024     321\n",
            "4     WVU  2024     654\n",
            "5     TSR  2024     987\n"
          ]
        }
      ],
      "source": [
        "import pandas as pd\n",
        "data = {\n",
        "    'Company': ['ZYX', 'WVU', 'TSR'],\n",
        "    2023: [123, 456, 789],\n",
        "    2024: [321, 654, 987]\n",
        "}\n",
        "df_cross_section = pd.DataFrame(data)\n",
        "\n",
        "# Melt the Cross-Sectional DataFrame to transform it into the Panel DataFrame format\n",
        "df_panel = pd.melt(df_cross_section, id_vars='Company', var_name='Year', value_name='Profit')\n",
        "\n",
        "# Display the Panel DataFrame 'df_panel'\n",
        "print(\"Panel DataFrame:\")\n",
        "print(df_panel)"
      ]
    },
    {
      "cell_type": "code",
      "source": [],
      "metadata": {
        "id": "azGexKq1192n"
      },
      "execution_count": null,
      "outputs": []
    },
    {
      "cell_type": "code",
      "source": [],
      "metadata": {
        "id": "7O0-Rmut19y_"
      },
      "execution_count": null,
      "outputs": []
    },
    {
      "cell_type": "code",
      "source": [],
      "metadata": {
        "id": "i2WFSWNtdHK7"
      },
      "execution_count": null,
      "outputs": []
    }
  ]
}