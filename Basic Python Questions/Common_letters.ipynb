{
  "nbformat": 4,
  "nbformat_minor": 0,
  "metadata": {
    "colab": {
      "provenance": []
    },
    "kernelspec": {
      "name": "python3",
      "display_name": "Python 3"
    },
    "language_info": {
      "name": "python"
    }
  },
  "cells": [
    {
      "cell_type": "code",
      "source": [
        "#Write a python code to display the letters occurring commonly in 2 words.\n",
        "#Test the code with the words ‘Python’ & ‘Anaconda’. (Note: Remove Case Sensitivity)\n",
        "#Input 1: Python\n",
        "#Input 2: Anaconda\n",
        "#Output: [o, n]"
      ],
      "metadata": {
        "id": "tL3-jhBtZWt0"
      },
      "execution_count": null,
      "outputs": []
    },
    {
      "cell_type": "code",
      "source": [
        "# Define a function common_letters that takes two words w1 and w2 (provided in the calling function).\n",
        "def common_letters(w1, w2):\n",
        "    # Find the common letters by taking the intersection of sets\n",
        "    common_letters = set(w1) & set(w2)\n",
        "    return common_letters\n",
        "\n",
        "# Define two words w1 and w2.\n",
        "w1 = 'Python'\n",
        "w2 = 'Anaconda'\n",
        "\n",
        "# Call the common_letters function with w1 and w2 and store the result in the variable common_letters_set.\n",
        "common_letters_set = common_letters(w1, w2)\n",
        "\n",
        "# Print the common letters between w1 and w2.\n",
        "print(\"Common letters between\", w1, \"and\", w2)\n",
        "for letter in common_letters_set: #read all letter in common_letter\n",
        "    print(letter)\n"
      ],
      "metadata": {
        "colab": {
          "base_uri": "https://localhost:8080/"
        },
        "id": "b_WEfu0ZZnva",
        "outputId": "8e6f897f-0f64-4da9-ec1f-cf6ebb4f369c"
      },
      "execution_count": null,
      "outputs": [
        {
          "output_type": "stream",
          "name": "stdout",
          "text": [
            "Common letters between  Python and Anaconda\n",
            "n\n",
            "o\n"
          ]
        }
      ]
    },
    {
      "cell_type": "code",
      "source": [],
      "metadata": {
        "id": "uFXBEqlraQZO"
      },
      "execution_count": null,
      "outputs": []
    }
  ]
}