{
  "nbformat": 4,
  "nbformat_minor": 0,
  "metadata": {
    "colab": {
      "provenance": []
    },
    "kernelspec": {
      "name": "python3",
      "display_name": "Python 3"
    },
    "language_info": {
      "name": "python"
    }
  },
  "cells": [
    {
      "cell_type": "code",
      "execution_count": null,
      "metadata": {
        "id": "R-k2MVvwJZri"
      },
      "outputs": [],
      "source": [
        "# Python code to generate the following ‘diamond’ pattern"
      ]
    },
    {
      "cell_type": "code",
      "source": [
        "# Define the number of rows (half of the diamond height)\n",
        "n= int(input(\"Enter the half of the diamond height\"))\n",
        "# Upper part of the diamond\n",
        "for i in range(n):\n",
        "    space = \" \" * (n - i - 1)\n",
        "    star = \"*\" * (2 * i + 1)\n",
        "    print(space + star)\n",
        "\n",
        "# Lower part of the diamond\n",
        "for i in range(n - 2, -1, -1):\n",
        "    space = \" \" * (n - i - 1)\n",
        "    star = \"*\" * (2 * i + 1)\n",
        "    print(space + star)\n"
      ],
      "metadata": {
        "colab": {
          "base_uri": "https://localhost:8080/"
        },
        "id": "ZdNnWfUbJrzj",
        "outputId": "d380a68e-bb1d-4a87-9ec8-8adf639cedde"
      },
      "execution_count": 6,
      "outputs": [
        {
          "output_type": "stream",
          "name": "stdout",
          "text": [
            "Enter the half of the diamond height6\n",
            "     *\n",
            "    ***\n",
            "   *****\n",
            "  *******\n",
            " *********\n",
            "***********\n",
            " *********\n",
            "  *******\n",
            "   *****\n",
            "    ***\n",
            "     *\n"
          ]
        }
      ]
    },
    {
      "cell_type": "code",
      "source": [],
      "metadata": {
        "id": "c5QZFwxiKDXz"
      },
      "execution_count": null,
      "outputs": []
    }
  ]
}