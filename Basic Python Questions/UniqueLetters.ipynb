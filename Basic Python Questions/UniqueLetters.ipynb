{
  "nbformat": 4,
  "nbformat_minor": 0,
  "metadata": {
    "colab": {
      "provenance": []
    },
    "kernelspec": {
      "name": "python3",
      "display_name": "Python 3"
    },
    "language_info": {
      "name": "python"
    }
  },
  "cells": [
    {
      "cell_type": "code",
      "execution_count": 1,
      "metadata": {
        "id": "j0Apog-JIG3f"
      },
      "outputs": [],
      "source": [
        "# Write a python code which will count the number of unique letters and their frequency.\n",
        "# Test the code with the word ‘Anaconda’. (Note: Remove Case Sensitivity)\n",
        "# Input: Anaconda\n",
        "# Output 1: Number of Unique Letters = 5\n",
        "# Output 2: {a: 3, c: 1, d: 1, n: 2, o: 1}"
      ]
    },
    {
      "cell_type": "code",
      "source": [
        "word = \"Anaconda\"\n",
        "# Create an empty dictionary to store lette frequencies\n",
        "letter_count = {}\n",
        "# Iterate through the characters in the word\n",
        "for char in word:\n",
        "    if char.isalpha():\n",
        "        if char in letter_count:\n",
        "            letter_count[char] += 1\n",
        "        else:\n",
        "            letter_count[char] = 1\n",
        "# Calculate the number of unique letters\n",
        "unique_letters = len(letter_count)\n",
        "\n",
        "# Print the results\n",
        "print(\"Output 1: Number of Unique Letters =\", unique_letters)\n",
        "print(\"Output 2:\", letter_count)"
      ],
      "metadata": {
        "colab": {
          "base_uri": "https://localhost:8080/"
        },
        "id": "GL13TaWUIm5K",
        "outputId": "ea26435e-2c46-4dd6-bd19-99cdffd61e34"
      },
      "execution_count": 2,
      "outputs": [
        {
          "output_type": "stream",
          "name": "stdout",
          "text": [
            "Output 1: Number of Unique Letters = 6\n",
            "Output 2: {'A': 1, 'n': 2, 'a': 2, 'c': 1, 'o': 1, 'd': 1}\n"
          ]
        }
      ]
    },
    {
      "cell_type": "code",
      "source": [],
      "metadata": {
        "id": "Sd3u7ytLJDAV"
      },
      "execution_count": null,
      "outputs": []
    }
  ]
}