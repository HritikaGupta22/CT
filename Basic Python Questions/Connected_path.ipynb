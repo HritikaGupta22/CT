{
  "nbformat": 4,
  "nbformat_minor": 0,
  "metadata": {
    "colab": {
      "provenance": []
    },
    "kernelspec": {
      "name": "python3",
      "display_name": "Python 3"
    },
    "language_info": {
      "name": "python"
    }
  },
  "cells": [
    {
      "cell_type": "code",
      "source": [
        "# Write a python code to create a list of 10 random letters (say List A). Create a copy of List A (say List B).\n",
        "# Shuffle both List A & B. Treat each element of List A (say a) as Source and the corresponding element of List B (say b) as Destination.\n",
        "# It is assumed that a from list A is connected to b from List B.\n",
        "# Map the network of all connected elements such that an inquiry of any element will show the connected paths to & from the element."
      ],
      "metadata": {
        "id": "ZsM8hyLuLJ6_"
      },
      "execution_count": null,
      "outputs": []
    },
    {
      "cell_type": "code",
      "execution_count": 5,
      "metadata": {
        "colab": {
          "base_uri": "https://localhost:8080/"
        },
        "id": "INu6mvULJYbm",
        "outputId": "0d1a1a89-5298-4e69-fb3b-f448874d9023"
      },
      "outputs": [
        {
          "output_type": "stream",
          "name": "stdout",
          "text": [
            "Random Generated List ['f', 'j', 'q', 'k', 'c', 'k', 'g', 'e', 't', 'y']\n",
            "Paths from e:\n",
            "e -> k\n",
            "e -> k -> g\n",
            "e -> k -> g -> t\n"
          ]
        }
      ],
      "source": [
        "import random\n",
        "\n",
        "# Define a function to generate a random lowercase letter\n",
        "def generate_random_letter():\n",
        "    random_ascii = random.randint(97, 122)\n",
        "    random_letter = chr(random_ascii)\n",
        "    return random_letter\n",
        "\n",
        "# Create List A with 10 random letters\n",
        "list_a = [generate_random_letter() for _ in range(10)]\n",
        "#print the random generated list\n",
        "print(\"Random Generated List\" , list_a)\n",
        "# Create a copy of List A in List B\n",
        "list_b = list_a.copy()\n",
        "\n",
        "# Shuffle both List A and List B\n",
        "random.shuffle(list_a)\n",
        "random.shuffle(list_b)\n",
        "\n",
        "# Create a dictionary to represent connections between elements of List A and List B\n",
        "connections = {list_a[i]: list_b[i] for i in range(len(list_a))}\n",
        "\n",
        "# Create a function to find all paths from a source element to all other elements\n",
        "def find_paths(graph, start):\n",
        "    stack = [(start, [start])]\n",
        "    paths = []\n",
        "\n",
        "    while stack:\n",
        "        (vertex, path) = stack.pop()\n",
        "\n",
        "        for neighbor in graph[vertex]:\n",
        "            if neighbor not in path:\n",
        "                new_path = path + [neighbor]\n",
        "                stack.append((neighbor, new_path))\n",
        "                paths.append(new_path)\n",
        "\n",
        "    return paths\n",
        "\n",
        "# Create a function to print paths\n",
        "def print_paths(paths):\n",
        "    for path in paths:\n",
        "        print(\" -> \".join(path))\n",
        "\n",
        "# Inquire about paths from a specific element (e.g., the first element in List A)\n",
        "inquiry_element = list_a[0]\n",
        "\n",
        "# Find all paths from the inquiry element to all other elements\n",
        "all_paths_from_inquiry = find_paths(connections, inquiry_element)\n",
        "\n",
        "# Print the paths from the inquiry element\n",
        "print(f\"Paths from {inquiry_element}:\")\n",
        "print_paths(all_paths_from_inquiry)\n"
      ]
    },
    {
      "cell_type": "code",
      "source": [],
      "metadata": {
        "id": "bIflvig2Lx1s"
      },
      "execution_count": null,
      "outputs": []
    }
  ]
}