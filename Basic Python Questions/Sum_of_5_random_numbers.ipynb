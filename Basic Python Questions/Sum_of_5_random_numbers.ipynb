{
  "nbformat": 4,
  "nbformat_minor": 0,
  "metadata": {
    "colab": {
      "provenance": []
    },
    "kernelspec": {
      "name": "python3",
      "display_name": "Python 3"
    },
    "language_info": {
      "name": "python"
    }
  },
  "cells": [
    {
      "cell_type": "code",
      "execution_count": null,
      "metadata": {
        "id": "3n5hNXFibaQS"
      },
      "outputs": [],
      "source": [
        "#Write a python code to generate 5 random numbers between -9 & +9 (use python library: random).\n",
        "#Print the list of 5 random numbers and their sum."
      ]
    },
    {
      "cell_type": "code",
      "source": [
        "import random as rn\n",
        "random_numbers = [rn.randint(-9, 9) for _ in range(5)] #importing random number from -9 to 9 in random_number\n",
        "\n",
        "sum_of_numbers = sum(random_numbers) #calculating sum\n",
        "# print the 5 random Numbers\n",
        "print(\"List of 5 random numbers:\", random_numbers)\n",
        "#print the sum of these random numbers\n",
        "print(\"Sum of the random numbers:\", sum_of_numbers)"
      ],
      "metadata": {
        "id": "vg_xb6PRbcVd"
      },
      "execution_count": null,
      "outputs": []
    }
  ]
}