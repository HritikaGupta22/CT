{
  "nbformat": 4,
  "nbformat_minor": 0,
  "metadata": {
    "colab": {
      "provenance": []
    },
    "kernelspec": {
      "name": "python3",
      "display_name": "Python 3"
    },
    "language_info": {
      "name": "python"
    }
  },
  "cells": [
    {
      "cell_type": "code",
      "execution_count": null,
      "metadata": {
        "id": "dBpSlo5ISnQ6"
      },
      "outputs": [],
      "source": [
        "\n",
        "#Task 2\n",
        "#A student’s evaluation is done based on 4 components: Class_Test (10%), Mid_Term (20%), Project (30%) & End_Term (40%).\n",
        "#Write a python code to generate a random score between 10 & 90 (use python library: random) and get the evaluation bifurcation (Round off to Nearest Integer).\n",
        "#Example\n",
        "#Input = 80 (marks)\n",
        "#Class_Test = 8 (marks)\n",
        "#Mid_Term = 16 (marks)\n",
        "#Project = 24 (marks)\n",
        "#End_Term = 32 (marks)"
      ]
    },
    {
      "cell_type": "code",
      "source": [
        "# Import the random module to generate a random score\n",
        "import random\n",
        "\n",
        "# Generate a random total score between 10 and 90\n",
        "total_score = random.randint(10, 90)\n",
        "\n",
        "# Define the weights for each term\n",
        "class_test_weight = 0.10\n",
        "mid_term_weight = 0.20\n",
        "project_weight = 0.30\n",
        "end_term_weight = 0.40\n",
        "\n",
        "# Calculate scores for each term based on their respective weights\n",
        "class_test_score = round(total_score * class_test_weight)\n",
        "mid_term_score = round(total_score * mid_term_weight)\n",
        "project_score = round(total_score * project_weight)\n",
        "end_term_score = round(total_score * end_term_weight)\n",
        "\n",
        "# Print the results for each term\n",
        "print(\"Class_Test =\", class_test_score, \"(marks)\")\n",
        "print(\"Mid_Term =\", mid_term_score, \"(marks)\")\n",
        "print(\"Project =\", project_score, \"(marks)\")\n",
        "print(\"End_Term =\", end_term_score, \"(marks)\")\n"
      ],
      "metadata": {
        "id": "9SOaWt2aSvq1",
        "colab": {
          "base_uri": "https://localhost:8080/"
        },
        "outputId": "ad2788c0-19e6-4e77-8fe4-52a5ce28a2e2"
      },
      "execution_count": 1,
      "outputs": [
        {
          "output_type": "stream",
          "name": "stdout",
          "text": [
            "Class_Test = 7 (marks)\n",
            "Mid_Term = 15 (marks)\n",
            "Project = 22 (marks)\n",
            "End_Term = 29 (marks)\n"
          ]
        }
      ]
    },
    {
      "cell_type": "code",
      "source": [],
      "metadata": {
        "id": "XBdq27qP_gQa"
      },
      "execution_count": null,
      "outputs": []
    }
  ]
}